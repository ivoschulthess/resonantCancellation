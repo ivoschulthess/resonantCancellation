{
 "cells": [
  {
   "cell_type": "markdown",
   "id": "92f1442f-879e-4764-ab81-bbc8f4b399d5",
   "metadata": {},
   "source": [
    "# Resonant Cancellation"
   ]
  },
  {
   "cell_type": "markdown",
   "id": "9483c22e-fdf6-48ac-bbb3-5b33f795982b",
   "metadata": {
    "tags": []
   },
   "source": [
    "## Imports and Definitions"
   ]
  },
  {
   "cell_type": "code",
   "execution_count": 1,
   "id": "2a8bcc76-308c-4108-8c26-44d80180309e",
   "metadata": {
    "tags": []
   },
   "outputs": [],
   "source": [
    "import sys\n",
    "import os\n",
    "sys.path.append('/home/sivo/Documents/libraries')\n",
    "\n",
    "import numpy as np\n",
    "import matplotlib.pyplot as plt\n",
    "import scipy.stats as stats\n",
    "import pandas as pd\n",
    "import gc\n",
    "import warnings\n",
    "\n",
    "from glob import glob\n",
    "from importlib import reload\n",
    "from scipy.optimize import curve_fit, fsolve, OptimizeWarning\n",
    "from scipy.signal import savgol_filter\n",
    "from scipy.constants import physical_constants\n",
    "from math import isclose"
   ]
  },
  {
   "cell_type": "code",
   "execution_count": 2,
   "id": "a8d8d06b-9443-4357-843c-8360e12c9de1",
   "metadata": {
    "tags": []
   },
   "outputs": [],
   "source": [
    "warnings.simplefilter(\"error\", OptimizeWarning)"
   ]
  },
  {
   "cell_type": "code",
   "execution_count": 3,
   "id": "8c609374-0486-4e04-b83a-8951787bbfae",
   "metadata": {
    "tags": []
   },
   "outputs": [],
   "source": [
    "%load_ext autoreload\n",
    "%autoreload 2\n",
    "\n",
    "import axionLib.axionLib as axion"
   ]
  }
 ],
 "metadata": {
  "kernelspec": {
   "display_name": "Python 3 (ipykernel)",
   "language": "python",
   "name": "python3"
  },
  "language_info": {
   "codemirror_mode": {
    "name": "ipython",
    "version": 3
   },
   "file_extension": ".py",
   "mimetype": "text/x-python",
   "name": "python",
   "nbconvert_exporter": "python",
   "pygments_lexer": "ipython3",
   "version": "3.10.9"
  }
 },
 "nbformat": 4,
 "nbformat_minor": 5
}
